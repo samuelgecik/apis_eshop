{
  "nbformat": 4,
  "nbformat_minor": 0,
  "metadata": {
    "colab": {
      "name": "request.ipynb",
      "provenance": [],
      "collapsed_sections": []
    },
    "kernelspec": {
      "name": "python3",
      "display_name": "Python 3"
    },
    "language_info": {
      "name": "python"
    }
  },
  "cells": [
    {
      "cell_type": "code",
      "metadata": {
        "id": "P0n036ZJxOIt"
      },
      "source": [
        ""
      ],
      "execution_count": null,
      "outputs": []
    },
    {
      "cell_type": "code",
      "metadata": {
        "id": "G3qufAT_xMlE"
      },
      "source": [
        "import requests\n",
        "import json\n",
        "\n",
        "#URL = \"http://05a8-34-86-86-69.ngrok.io/\"\n",
        "URL = \"http://c747-34-83-144-182.ngrok.io/\"\n",
        "\n",
        "location = \"hm\"\n",
        "data_dict = {}\n",
        "\n",
        "#data_dict[\"vytvorit\"] = \"jahoda\""
      ],
      "execution_count": null,
      "outputs": []
    },
    {
      "cell_type": "code",
      "metadata": {
        "colab": {
          "base_uri": "https://localhost:8080/",
          "height": 35
        },
        "id": "Nfekcy_h6JYm",
        "outputId": "cbb739a6-71b4-41ec-8cb5-367bdfcd56a4"
      },
      "source": [
        "text = URL + location\n",
        "text"
      ],
      "execution_count": null,
      "outputs": [
        {
          "output_type": "execute_result",
          "data": {
            "application/vnd.google.colaboratory.intrinsic+json": {
              "type": "string"
            },
            "text/plain": [
              "'http://c747-34-83-144-182.ngrok.io/hm'"
            ]
          },
          "metadata": {},
          "execution_count": 30
        }
      ]
    },
    {
      "cell_type": "code",
      "metadata": {
        "colab": {
          "base_uri": "https://localhost:8080/"
        },
        "id": "d8-oG8ZT5hE_",
        "outputId": "af414648-b708-47d2-8e57-86ef6287c61d"
      },
      "source": [
        "r = requests.post(url = URL+location)\n",
        "r"
      ],
      "execution_count": null,
      "outputs": [
        {
          "output_type": "execute_result",
          "data": {
            "text/plain": [
              "<Response [201]>"
            ]
          },
          "metadata": {},
          "execution_count": 14
        }
      ]
    },
    {
      "cell_type": "code",
      "metadata": {
        "colab": {
          "base_uri": "https://localhost:8080/"
        },
        "id": "ISpqP6wi-b7U",
        "outputId": "bdad1d92-1b4a-4d67-8318-b3d61735de02"
      },
      "source": [
        "r = requests.put(url = URL+\"putOrder/2\")\n",
        "r"
      ],
      "execution_count": null,
      "outputs": [
        {
          "output_type": "execute_result",
          "data": {
            "text/plain": [
              "<Response [200]>"
            ]
          },
          "metadata": {},
          "execution_count": 31
        }
      ]
    },
    {
      "cell_type": "code",
      "metadata": {
        "id": "ZLbTBepj4LpO"
      },
      "source": [
        "r = requests.post(url = URL+\"/\"+location,data = json.dumps(data_dict))"
      ],
      "execution_count": null,
      "outputs": []
    },
    {
      "cell_type": "code",
      "metadata": {
        "id": "f76Jzwrm1l-U"
      },
      "source": [
        "r = requests.put(url = URL+\"/\"+\"upravit/1\", data = json.dumps({'upravit':'mandarinka'}))"
      ],
      "execution_count": null,
      "outputs": []
    },
    {
      "cell_type": "code",
      "metadata": {
        "id": "9qA1RTWW4PDk",
        "colab": {
          "base_uri": "https://localhost:8080/"
        },
        "outputId": "48082597-16e0-45b2-bb63-a423020ee8f0"
      },
      "source": [
        "r = requests.delete(url = URL+\"delete/1\")\n",
        "r"
      ],
      "execution_count": null,
      "outputs": [
        {
          "output_type": "execute_result",
          "data": {
            "text/plain": [
              "<Response [204]>"
            ]
          },
          "metadata": {},
          "execution_count": 25
        }
      ]
    }
  ]
}